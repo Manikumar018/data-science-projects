{
  "nbformat": 4,
  "nbformat_minor": 0,
  "metadata": {
    "colab": {
      "provenance": []
    },
    "kernelspec": {
      "name": "python3",
      "display_name": "Python 3"
    },
    "language_info": {
      "name": "python"
    }
  },
  "cells": [
    {
      "cell_type": "code",
      "execution_count": null,
      "metadata": {
        "colab": {
          "base_uri": "https://localhost:8080/",
          "height": 157
        },
        "id": "3qTD6NfIowL8",
        "outputId": "52bd5daf-8f67-48c5-f9dd-fa743886980a"
      },
      "outputs": [
        {
          "output_type": "execute_result",
          "data": {
            "text/plain": [
              "'given data\\nSatisfaction\\tSmart Thermostat\\tSmart Light\\tTotal\\nVery Satisfied   \\t50\\t   70         \\t120\\nSatisfied\\t        80\\t   100         \\t180\\nNeutral\\t          60\\t   90\\t          150\\nUnsatisfied\\t      30\\t   50\\t          80\\nVery Unsatisfied\\t20\\t   50\\t          70\\nTotal           \\t240\\t   360\\t600\\nlet us consider these hypothesis\\nNull Hypothesis : There is no significant association between the type of smart home device purchased and the customer satisfaction level.\\nAlternative Hypothesis: There is a significant association between the type of smart home device purchased and the customer satisfaction level.\\n'"
            ],
            "application/vnd.google.colaboratory.intrinsic+json": {
              "type": "string"
            }
          },
          "metadata": {},
          "execution_count": 13
        }
      ],
      "source": [
        "'''given data\n",
        "Satisfaction\tSmart Thermostat\tSmart Light\tTotal\n",
        "Very Satisfied   \t50\t   70         \t120\n",
        "Satisfied\t        80\t   100         \t180\n",
        "Neutral\t          60\t   90\t          150\n",
        "Unsatisfied\t      30\t   50\t          80\n",
        "Very Unsatisfied\t20\t   50\t          70\n",
        "Total           \t240\t   360\t600\n",
        "let us consider these hypothesis\n",
        "Null Hypothesis : There is no significant association between the type of smart home device purchased and the customer satisfaction level.\n",
        "Alternative Hypothesis: There is a significant association between the type of smart home device purchased and the customer satisfaction level.'''"
      ]
    },
    {
      "cell_type": "code",
      "source": [
        "'''let us first import all liraries and compute the chi squared statistic'''\n",
        "import numpy as np\n",
        "from scipy.stats import chi2_contingency\n",
        "data=np.array([[50,70],[80,100],[60,90],[30,50],[20,50]])\n",
        "chi2_stat,p,dof,expected=chi2_contingency(data)\n",
        "print(f\"Chi-square statistic: {chi2_stat}\")\n",
        "print(f\"P-value: {p}\")\n",
        "print(f\"Degrees of freedom: {dof}\")\n",
        "print(\"Expected frequencies:\")\n",
        "print(expected)"
      ],
      "metadata": {
        "colab": {
          "base_uri": "https://localhost:8080/"
        },
        "id": "SMhJkNIQqo1i",
        "outputId": "2dbd7dba-885d-4ce4-ab83-6e9feb5ca484"
      },
      "execution_count": null,
      "outputs": [
        {
          "output_type": "stream",
          "name": "stdout",
          "text": [
            "Chi-square statistic: 5.638227513227513\n",
            "P-value: 0.22784371130697179\n",
            "Degrees of freedom: 4\n",
            "Expected frequencies:\n",
            "[[ 48.  72.]\n",
            " [ 72. 108.]\n",
            " [ 60.  90.]\n",
            " [ 32.  48.]\n",
            " [ 28.  42.]]\n"
          ]
        }
      ]
    },
    {
      "cell_type": "code",
      "source": [
        "'''Determining the critical value'''\n",
        "from scipy.stats import chi2\n",
        "alpha=0.05\n",
        "critical_value=chi2.ppf(1-alpha,dof)\n",
        "print(f\"Critical value: {critical_value}\")"
      ],
      "metadata": {
        "colab": {
          "base_uri": "https://localhost:8080/"
        },
        "id": "SC1Rexp3sOs7",
        "outputId": "fc330ddb-fc98-45ed-ae70-9a2a882a60c5"
      },
      "execution_count": null,
      "outputs": [
        {
          "output_type": "stream",
          "name": "stdout",
          "text": [
            "Critical value: 9.487729036781154\n"
          ]
        }
      ]
    },
    {
      "cell_type": "code",
      "source": [
        "'''comparining chi squared statistic with critical value'''\n",
        "if chi2_stat> critical_value:\n",
        "    print(\"Reject the null hypothesis. There is a significant association between the type of device and customer satisfaction level.\")\n",
        "else:\n",
        "    print(\"Fail to reject the null hypothesis. There is no significant association between the type of device and customer satisfaction level.\")"
      ],
      "metadata": {
        "colab": {
          "base_uri": "https://localhost:8080/"
        },
        "id": "SccF9KCatO8K",
        "outputId": "c015aef9-3714-40e1-834d-3913d5985463"
      },
      "execution_count": null,
      "outputs": [
        {
          "output_type": "stream",
          "name": "stdout",
          "text": [
            "Fail to reject the null hypothesis. There is no significant association between the type of device and customer satisfaction level.\n"
          ]
        }
      ]
    },
    {
      "cell_type": "code",
      "source": [
        "'''The chi squared test indicates that there is no significant association between the type of smart home device purchased and the customer satisfaction level.'''\n"
      ],
      "metadata": {
        "colab": {
          "base_uri": "https://localhost:8080/",
          "height": 53
        },
        "id": "xCChnXHdvEAH",
        "outputId": "12931ffe-3ae0-466e-cdc8-f5df33e00e48"
      },
      "execution_count": null,
      "outputs": [
        {
          "output_type": "execute_result",
          "data": {
            "text/plain": [
              "'The chi squared test indicates that there is no significant association between the type of smart home device purchased and the customer satisfaction level.'"
            ],
            "application/vnd.google.colaboratory.intrinsic+json": {
              "type": "string"
            }
          },
          "metadata": {},
          "execution_count": 19
        }
      ]
    }
  ]
}