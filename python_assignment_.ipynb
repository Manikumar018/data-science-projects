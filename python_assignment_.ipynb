{
  "nbformat": 4,
  "nbformat_minor": 0,
  "metadata": {
    "colab": {
      "provenance": []
    },
    "kernelspec": {
      "name": "python3",
      "display_name": "Python 3"
    },
    "language_info": {
      "name": "python"
    }
  },
  "cells": [
    {
      "cell_type": "code",
      "execution_count": null,
      "metadata": {
        "colab": {
          "base_uri": "https://localhost:8080/"
        },
        "id": "ZItGE0U7ajzA",
        "outputId": "1d699e18-e4c7-49a2-fe88-fd4a71ef5c62"
      },
      "outputs": [
        {
          "output_type": "stream",
          "name": "stdout",
          "text": [
            "Enter a number: 13\n",
            "13 is a prime number\n"
          ]
        }
      ],
      "source": [
        "#program to find if a number is prime or not\n",
        "num=int(input(\"Enter a number: \"))\n",
        "if num <=1:\n",
        "    print(f\"{num} is not a prime number\")\n",
        "else:\n",
        "    for i in range(2,num):\n",
        "        if num%i==0:\n",
        "            print(f\"{num} is not a prime number\")\n",
        "            break\n",
        "    else:\n",
        "        print(f\"{num} is a prime number\")"
      ]
    },
    {
      "cell_type": "code",
      "source": [
        "#program to find product of two random numbers.\n",
        "\n",
        "import random\n",
        "num1=random.randint(1,100)\n",
        "num2=random.randint(1,100)\n",
        "product=num1*num2\n",
        "user=int(input(f'what is the product of {num1} and {num2}? '))\n",
        "if user==product:\n",
        "   print('correct!')\n",
        "else:\n",
        "   print(f'incorrect! The correct ans is {product}')"
      ],
      "metadata": {
        "colab": {
          "base_uri": "https://localhost:8080/"
        },
        "id": "6TYSKVqUaxyu",
        "outputId": "4bb2e1b0-5333-45c5-8dba-239625dbe40f"
      },
      "execution_count": null,
      "outputs": [
        {
          "output_type": "stream",
          "name": "stdout",
          "text": [
            "what is the product of 53 and 68? 2345\n",
            "incorrect! The correct ans is 3604\n"
          ]
        }
      ]
    },
    {
      "cell_type": "code",
      "source": [
        "#squares of all even/odd numbers in range 100 to 200\n",
        "for i in range(100,201):\n",
        "    if i%2==0:\n",
        "        print(f'The square of {i} is {i**2}')\n",
        "#chose even to find the squares\n",
        "#to find odd replace == with !="
      ],
      "metadata": {
        "colab": {
          "base_uri": "https://localhost:8080/"
        },
        "id": "55Wn9oACa07p",
        "outputId": "19f533a1-aea4-4c7f-b29b-a6e71dd7ccdd"
      },
      "execution_count": null,
      "outputs": [
        {
          "output_type": "stream",
          "name": "stdout",
          "text": [
            "The square of 100 is 10000\n",
            "The square of 102 is 10404\n",
            "The square of 104 is 10816\n",
            "The square of 106 is 11236\n",
            "The square of 108 is 11664\n",
            "The square of 110 is 12100\n",
            "The square of 112 is 12544\n",
            "The square of 114 is 12996\n",
            "The square of 116 is 13456\n",
            "The square of 118 is 13924\n",
            "The square of 120 is 14400\n",
            "The square of 122 is 14884\n",
            "The square of 124 is 15376\n",
            "The square of 126 is 15876\n",
            "The square of 128 is 16384\n",
            "The square of 130 is 16900\n",
            "The square of 132 is 17424\n",
            "The square of 134 is 17956\n",
            "The square of 136 is 18496\n",
            "The square of 138 is 19044\n",
            "The square of 140 is 19600\n",
            "The square of 142 is 20164\n",
            "The square of 144 is 20736\n",
            "The square of 146 is 21316\n",
            "The square of 148 is 21904\n",
            "The square of 150 is 22500\n",
            "The square of 152 is 23104\n",
            "The square of 154 is 23716\n",
            "The square of 156 is 24336\n",
            "The square of 158 is 24964\n",
            "The square of 160 is 25600\n",
            "The square of 162 is 26244\n",
            "The square of 164 is 26896\n",
            "The square of 166 is 27556\n",
            "The square of 168 is 28224\n",
            "The square of 170 is 28900\n",
            "The square of 172 is 29584\n",
            "The square of 174 is 30276\n",
            "The square of 176 is 30976\n",
            "The square of 178 is 31684\n",
            "The square of 180 is 32400\n",
            "The square of 182 is 33124\n",
            "The square of 184 is 33856\n",
            "The square of 186 is 34596\n",
            "The square of 188 is 35344\n",
            "The square of 190 is 36100\n",
            "The square of 192 is 36864\n",
            "The square of 194 is 37636\n",
            "The square of 196 is 38416\n",
            "The square of 198 is 39204\n",
            "The square of 200 is 40000\n"
          ]
        }
      ]
    },
    {
      "cell_type": "code",
      "source": [
        "#word counter\n",
        "from collections import Counter\n",
        "\n",
        "input_text= input(\"Enter a text: \")\n",
        "words = input_text.split()\n",
        "word_count = Counter(words)\n",
        "\n",
        "for word, count in word_count.items():\n",
        "    print(f\"'{word}': {count}\")\n"
      ],
      "metadata": {
        "colab": {
          "base_uri": "https://localhost:8080/"
        },
        "id": "pRdhINZ6a61t",
        "outputId": "cc617ecd-c6d4-46e1-c2ad-b62594fcef67"
      },
      "execution_count": null,
      "outputs": [
        {
          "output_type": "stream",
          "name": "stdout",
          "text": [
            "Enter a text: This is a sample text. This text will be used to demonstrate the word counter\n",
            "'This': 2\n",
            "'is': 1\n",
            "'a': 1\n",
            "'sample': 1\n",
            "'text.': 1\n",
            "'text': 1\n",
            "'will': 1\n",
            "'be': 1\n",
            "'used': 1\n",
            "'to': 1\n",
            "'demonstrate': 1\n",
            "'the': 1\n",
            "'word': 1\n",
            "'counter': 1\n"
          ]
        }
      ]
    },
    {
      "cell_type": "code",
      "source": [
        "#program to write if a word is palindrome or not\n",
        "def palindrome(word):\n",
        "  if word==word[::-1]:\n",
        "    print(' word is palindrome')\n",
        "  else:\n",
        "    print('word is not a palindrome')\n",
        "word=input('enter the word')\n",
        "palindrome(word)\n",
        "\n"
      ],
      "metadata": {
        "colab": {
          "base_uri": "https://localhost:8080/"
        },
        "id": "vQkhVFOrbRQD",
        "outputId": "b088ae6b-634c-438e-902e-db059dd52854"
      },
      "execution_count": null,
      "outputs": [
        {
          "output_type": "stream",
          "name": "stdout",
          "text": [
            "enter the wordracecar\n",
            " word is palindrome\n"
          ]
        }
      ]
    }
  ]
}