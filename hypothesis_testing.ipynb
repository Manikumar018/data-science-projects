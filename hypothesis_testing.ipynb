{
  "nbformat": 4,
  "nbformat_minor": 0,
  "metadata": {
    "colab": {
      "provenance": []
    },
    "kernelspec": {
      "name": "python3",
      "display_name": "Python 3"
    },
    "language_info": {
      "name": "python"
    }
  },
  "cells": [
    {
      "cell_type": "code",
      "execution_count": null,
      "metadata": {
        "id": "grpEvYBhxP3i"
      },
      "outputs": [],
      "source": [
        "#firstly let us consider the hypotheses\n",
        "#Null Hypothesis : The theoretical weekly operating cost model is accurate. ( \\mu = 1000 + 5X )\n",
        "#Alternative Hypothesis: The observed weekly operating costs are higher than the theoretical model. ( \\mu > 1000 + 5X )"
      ]
    },
    {
      "cell_type": "code",
      "source": [
        "#importing library\n",
        "import math\n",
        "#given data\n",
        "sample_mean=3050\n",
        "theorotical_mean= 1000 + 5 * 600\n",
        "std_dev= 5 * 25\n",
        "sample_size = 25\n",
        "#calculating the test statistic\n",
        "t_statistic = (sample_mean - theorotical_mean) / (std_dev / math.sqrt(sample_size))"
      ],
      "metadata": {
        "id": "Jny_BR86x4VN"
      },
      "execution_count": null,
      "outputs": []
    },
    {
      "cell_type": "code",
      "source": [
        "# Critical value for one-tailed test at alpha = 0.05\n",
        "critical_value = 1.645\n",
        "# Decision\n",
        "if t_statistic < -critical_value:\n",
        "    decision = \"Reject the null hypothesis\"\n",
        "else:\n",
        "    decision = \"Fail to reject the null hypothesis\"\n",
        "#otput of the results\n",
        "print(\"Test Statistic:\", t_statistic)\n",
        "print(\"Critical Value:\", critical_value)\n",
        "print(\"Decision:\", decision)\n"
      ],
      "metadata": {
        "colab": {
          "base_uri": "https://localhost:8080/"
        },
        "id": "6PRhjOq3zFGF",
        "outputId": "ec45fc1e-649c-4628-a6db-49171049d4ec"
      },
      "execution_count": null,
      "outputs": [
        {
          "output_type": "stream",
          "name": "stdout",
          "text": [
            "Test Statistic: -38.0\n",
            "Critical Value: 1.645\n",
            "Decision: Reject the null hypothesis\n"
          ]
        }
      ]
    },
    {
      "cell_type": "code",
      "source": [
        "#The hypothesis testing concludes that the observed weekly operating costs are higher than the theoretical model"
      ],
      "metadata": {
        "id": "VsKkchyxzf-c"
      },
      "execution_count": null,
      "outputs": []
    }
  ]
}