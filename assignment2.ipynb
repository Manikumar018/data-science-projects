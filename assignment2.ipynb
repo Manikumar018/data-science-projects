{
  "nbformat": 4,
  "nbformat_minor": 0,
  "metadata": {
    "colab": {
      "provenance": []
    },
    "kernelspec": {
      "name": "python3",
      "display_name": "Python 3"
    },
    "language_info": {
      "name": "python"
    }
  },
  "cells": [
    {
      "cell_type": "code",
      "source": [
        "#A total of 15 print-heads were randomly selected and tested until failure. The durability of each print-head (in millions of characters) was recorded as follows:\n",
        "#1.13, 1.55, 1.43, 0.92, 1.25, 1.36, 1.32, 0.85, 1.07, 1.48, 1.20, 1.33, 1.18, 1.22, 1.29\n",
        "\n",
        "import numpy as np\n",
        "from scipy.stats import t\n",
        "\n",
        "def confidence_interval(data, confidence=0.99):\n",
        "  n = len(data)\n",
        "  sample_mean = np.mean(data)\n",
        "  sample_std = np.std(data, ddof=1)\n",
        "  t_critical = t.ppf((1 + confidence) / 2, df=n - 1)\n",
        "  margin_of_error = t_critical * (sample_std / np.sqrt(n))\n",
        "  lower_bound = sample_mean - margin_of_error\n",
        "  upper_bound = sample_mean + margin_of_error\n",
        "  return lower_bound, upper_bound\n",
        "\n",
        "sample_data = [1.13, 1.55, 1.43, 0.92, 1.25, 1.36, 1.32, 0.85, 1.07, 1.48, 1.20, 1.33, 1.18, 1.22, 1.29]\n",
        "confidence_level = 0.99\n",
        "\n",
        "lower, upper = confidence_interval(sample_data, confidence_level)\n",
        "print(f\"99% Confidence Interval: ({lower:.2f}, {upper:.2f})\")\n",
        "\n",
        "# 1. We use the t-distribution because the population standard deviation is unknown, and we are using the sample standard deviation as an estimate.\n",
        "# 2. The t-distribution is more appropriate than the normal distribution when the sample size is small or when the population standard deviation is unknown.\n",
        "# 3. The t-distribution has heavier tails than the normal distribution, which accounts for the increased uncertainty when estimating the population mean from a small sample with an unknown population standard deviation.\n",
        "# 4. We calculate the t-critical value using the desired confidence level and the degrees of freedom (n-1).\n",
        "# 5. We then calculate the margin of error by multiplying the t-critical value by the standard error of the mean (sample standard deviation divided by the square root of the sample size).\n",
        "# 6. Finally, we construct the confidence interval by adding and subtracting the margin of error from the sample mean.\n"
      ],
      "metadata": {
        "colab": {
          "base_uri": "https://localhost:8080/"
        },
        "id": "E_tj3604awQ2",
        "outputId": "b8b1786d-b250-4c98-96b8-1347c006b718"
      },
      "execution_count": null,
      "outputs": [
        {
          "output_type": "stream",
          "name": "stdout",
          "text": [
            "99% Confidence Interval: (1.09, 1.39)\n"
          ]
        }
      ]
    },
    {
      "cell_type": "code",
      "source": [
        "#If it were known that the population standard deviation is 0.2 million characters, construct a 99% confidence interval for the mean number of characters printed before failure.\n",
        "\n",
        "from scipy.stats import norm\n",
        "\n",
        "data = [1.13, 1.55, 1.43, 0.92, 1.25, 1.36, 1.32, 0.85, 1.07, 1.48, 1.20, 1.33, 1.18, 1.22, 1.29]\n",
        "population_std = 0.2\n",
        "confidence_level = 0.99\n",
        "\n",
        "sample_mean = np.mean(data)\n",
        "n = len(data)\n",
        "z_critical = norm.ppf((1 + confidence_level) / 2)\n",
        "margin_of_error = z_critical * (population_std / np.sqrt(n))\n",
        "lower_bound = sample_mean - margin_of_error\n",
        "upper_bound = sample_mean + margin_of_error\n",
        "\n",
        "print(f\"99% Confidence Interval for the mean number of characters printed before failure: ({lower_bound:.2f}, {upper_bound:.2f})\")\n"
      ],
      "metadata": {
        "colab": {
          "base_uri": "https://localhost:8080/"
        },
        "id": "3wLFjKGDbD_L",
        "outputId": "2bc4c62e-cfe8-4781-a294-5bf0b0e52bb7"
      },
      "execution_count": null,
      "outputs": [
        {
          "output_type": "stream",
          "name": "stdout",
          "text": [
            "99% Confidence Interval for the mean number of characters printed before failure: (1.11, 1.37)\n"
          ]
        }
      ]
    }
  ]
}